{
 "cells": [
  {
   "cell_type": "markdown",
   "id": "c0671903",
   "metadata": {},
   "source": [
    "# Data Preprocessing:"
   ]
  },
  {
   "cell_type": "code",
   "execution_count": 1,
   "id": "6de7ff87",
   "metadata": {},
   "outputs": [],
   "source": [
    "import warnings\n",
    "warnings.filterwarnings('ignore')"
   ]
  },
  {
   "cell_type": "code",
   "execution_count": 2,
   "id": "6c60b45e",
   "metadata": {},
   "outputs": [],
   "source": [
    "import pandas as pd"
   ]
  },
  {
   "cell_type": "code",
   "execution_count": 3,
   "id": "2fa2761a",
   "metadata": {},
   "outputs": [],
   "source": [
    "data = pd.read_csv('data.csv')"
   ]
  },
  {
   "cell_type": "code",
   "execution_count": 4,
   "id": "e6626cbb",
   "metadata": {},
   "outputs": [
    {
     "data": {
      "text/html": [
       "<div>\n",
       "<style scoped>\n",
       "    .dataframe tbody tr th:only-of-type {\n",
       "        vertical-align: middle;\n",
       "    }\n",
       "\n",
       "    .dataframe tbody tr th {\n",
       "        vertical-align: top;\n",
       "    }\n",
       "\n",
       "    .dataframe thead th {\n",
       "        text-align: right;\n",
       "    }\n",
       "</style>\n",
       "<table border=\"1\" class=\"dataframe\">\n",
       "  <thead>\n",
       "    <tr style=\"text-align: right;\">\n",
       "      <th></th>\n",
       "      <th>S.No</th>\n",
       "      <th>Crime</th>\n",
       "      <th>Gender</th>\n",
       "      <th>Age</th>\n",
       "      <th>Income</th>\n",
       "      <th>Job</th>\n",
       "      <th>Maritalstatus</th>\n",
       "      <th>Education</th>\n",
       "      <th>Harm</th>\n",
       "      <th>Attack</th>\n",
       "      <th>AttackMethod</th>\n",
       "    </tr>\n",
       "  </thead>\n",
       "  <tbody>\n",
       "    <tr>\n",
       "      <th>0</th>\n",
       "      <td>0</td>\n",
       "      <td>Misuse of Debit Cards or Credit Cards</td>\n",
       "      <td>Male</td>\n",
       "      <td>Between 38 and 50</td>\n",
       "      <td>Middle</td>\n",
       "      <td>Technical</td>\n",
       "      <td>Married</td>\n",
       "      <td>Primary Education</td>\n",
       "      <td>Fraud</td>\n",
       "      <td>Hacking Social Media Accounts</td>\n",
       "      <td>Creating a Fake Shopping Site</td>\n",
       "    </tr>\n",
       "    <tr>\n",
       "      <th>1</th>\n",
       "      <td>1</td>\n",
       "      <td>Misuse of Debit Cards or Credit Cards</td>\n",
       "      <td>Female</td>\n",
       "      <td>27 and Under</td>\n",
       "      <td>Low</td>\n",
       "      <td>Student</td>\n",
       "      <td>Single</td>\n",
       "      <td>High School</td>\n",
       "      <td>Internet Shopping Out of Knowledge</td>\n",
       "      <td>Hacking Social Media Accounts</td>\n",
       "      <td>Social Engineering</td>\n",
       "    </tr>\n",
       "    <tr>\n",
       "      <th>2</th>\n",
       "      <td>2</td>\n",
       "      <td>Misuse of Debit Cards or Credit Cards</td>\n",
       "      <td>Male</td>\n",
       "      <td>Between 38 and 50</td>\n",
       "      <td>Low</td>\n",
       "      <td>Retired</td>\n",
       "      <td>Married</td>\n",
       "      <td>Primary Education</td>\n",
       "      <td>Internet Shopping Out of Knowledge</td>\n",
       "      <td>Hacking Social Media Accounts</td>\n",
       "      <td>Social Engineering</td>\n",
       "    </tr>\n",
       "    <tr>\n",
       "      <th>3</th>\n",
       "      <td>3</td>\n",
       "      <td>Misuse of Debit Cards or Credit Cards</td>\n",
       "      <td>Male</td>\n",
       "      <td>Between 38 and 50</td>\n",
       "      <td>Low</td>\n",
       "      <td>Technical</td>\n",
       "      <td>Married</td>\n",
       "      <td>High School</td>\n",
       "      <td>Internet Shopping by Intoducing Himself as a B...</td>\n",
       "      <td>Hacking Social Media Accounts</td>\n",
       "      <td>Social Engineering</td>\n",
       "    </tr>\n",
       "    <tr>\n",
       "      <th>4</th>\n",
       "      <td>4</td>\n",
       "      <td>Misuse of Debit Cards or Credit Cards</td>\n",
       "      <td>Male</td>\n",
       "      <td>Between 38 and 50</td>\n",
       "      <td>Low</td>\n",
       "      <td>Others</td>\n",
       "      <td>Married</td>\n",
       "      <td>High School</td>\n",
       "      <td>Internet Shopping Out of Knowledge</td>\n",
       "      <td>Hacking Social Media Accounts</td>\n",
       "      <td>Social Engineering</td>\n",
       "    </tr>\n",
       "    <tr>\n",
       "      <th>...</th>\n",
       "      <td>...</td>\n",
       "      <td>...</td>\n",
       "      <td>...</td>\n",
       "      <td>...</td>\n",
       "      <td>...</td>\n",
       "      <td>...</td>\n",
       "      <td>...</td>\n",
       "      <td>...</td>\n",
       "      <td>...</td>\n",
       "      <td>...</td>\n",
       "      <td>...</td>\n",
       "    </tr>\n",
       "    <tr>\n",
       "      <th>1797</th>\n",
       "      <td>1797</td>\n",
       "      <td>Through Informatics Theft</td>\n",
       "      <td>Male</td>\n",
       "      <td>51 and Above</td>\n",
       "      <td>Middle</td>\n",
       "      <td>Education</td>\n",
       "      <td>Married</td>\n",
       "      <td>High School</td>\n",
       "      <td>Do Moral Harm</td>\n",
       "      <td>Obtaining and Using Data in Digital Environment</td>\n",
       "      <td>Social Engineering</td>\n",
       "    </tr>\n",
       "    <tr>\n",
       "      <th>1798</th>\n",
       "      <td>1798</td>\n",
       "      <td>Through Informatics Theft</td>\n",
       "      <td>Male</td>\n",
       "      <td>51 and Above</td>\n",
       "      <td>Low</td>\n",
       "      <td>Retired</td>\n",
       "      <td>Married</td>\n",
       "      <td>High School</td>\n",
       "      <td>Withdrawals Without Knowledge</td>\n",
       "      <td>Obtaining and Using Data in Digital Environment</td>\n",
       "      <td>Social Engineering</td>\n",
       "    </tr>\n",
       "    <tr>\n",
       "      <th>1799</th>\n",
       "      <td>1799</td>\n",
       "      <td>Through Informatics Theft</td>\n",
       "      <td>Female</td>\n",
       "      <td>27 and Under</td>\n",
       "      <td>Low</td>\n",
       "      <td>Technical</td>\n",
       "      <td>Single</td>\n",
       "      <td>Primary Education</td>\n",
       "      <td>Withdrawals Without Knowledge</td>\n",
       "      <td>Obtaining and Using Data in Digital Environment</td>\n",
       "      <td>Social Engineering</td>\n",
       "    </tr>\n",
       "    <tr>\n",
       "      <th>1800</th>\n",
       "      <td>1800</td>\n",
       "      <td>Through Informatics Theft</td>\n",
       "      <td>Female</td>\n",
       "      <td>Between 38 and 50</td>\n",
       "      <td>Low</td>\n",
       "      <td>Housewife</td>\n",
       "      <td>Married</td>\n",
       "      <td>High School</td>\n",
       "      <td>Withdrawals Without Knowledge</td>\n",
       "      <td>Obtaining and Using Data in Digital Environment</td>\n",
       "      <td>Social Engineering</td>\n",
       "    </tr>\n",
       "    <tr>\n",
       "      <th>1801</th>\n",
       "      <td>1801</td>\n",
       "      <td>Through Informatics Theft</td>\n",
       "      <td>Female</td>\n",
       "      <td>27 and Under</td>\n",
       "      <td>Middle</td>\n",
       "      <td>Technical</td>\n",
       "      <td>Single</td>\n",
       "      <td>High School</td>\n",
       "      <td>Withdrawals Without Knowledge</td>\n",
       "      <td>Copying Bank / ATM Cards</td>\n",
       "      <td>Receiving Public Data on Social Media</td>\n",
       "    </tr>\n",
       "  </tbody>\n",
       "</table>\n",
       "<p>1802 rows × 11 columns</p>\n",
       "</div>"
      ],
      "text/plain": [
       "      S.No                                  Crime  Gender                Age  \\\n",
       "0        0  Misuse of Debit Cards or Credit Cards    Male  Between 38 and 50   \n",
       "1        1  Misuse of Debit Cards or Credit Cards  Female       27 and Under   \n",
       "2        2  Misuse of Debit Cards or Credit Cards    Male  Between 38 and 50   \n",
       "3        3  Misuse of Debit Cards or Credit Cards    Male  Between 38 and 50   \n",
       "4        4  Misuse of Debit Cards or Credit Cards    Male  Between 38 and 50   \n",
       "...    ...                                    ...     ...                ...   \n",
       "1797  1797              Through Informatics Theft    Male       51 and Above   \n",
       "1798  1798              Through Informatics Theft    Male       51 and Above   \n",
       "1799  1799              Through Informatics Theft  Female       27 and Under   \n",
       "1800  1800              Through Informatics Theft  Female  Between 38 and 50   \n",
       "1801  1801              Through Informatics Theft  Female       27 and Under   \n",
       "\n",
       "      Income        Job Maritalstatus          Education  \\\n",
       "0     Middle  Technical       Married  Primary Education   \n",
       "1        Low    Student        Single        High School   \n",
       "2        Low    Retired       Married  Primary Education   \n",
       "3        Low  Technical       Married        High School   \n",
       "4        Low     Others       Married        High School   \n",
       "...      ...        ...           ...                ...   \n",
       "1797  Middle  Education       Married        High School   \n",
       "1798     Low    Retired       Married        High School   \n",
       "1799     Low  Technical        Single  Primary Education   \n",
       "1800     Low  Housewife       Married        High School   \n",
       "1801  Middle  Technical        Single        High School   \n",
       "\n",
       "                                                   Harm  \\\n",
       "0                                                 Fraud   \n",
       "1                    Internet Shopping Out of Knowledge   \n",
       "2                    Internet Shopping Out of Knowledge   \n",
       "3     Internet Shopping by Intoducing Himself as a B...   \n",
       "4                    Internet Shopping Out of Knowledge   \n",
       "...                                                 ...   \n",
       "1797                                      Do Moral Harm   \n",
       "1798                      Withdrawals Without Knowledge   \n",
       "1799                      Withdrawals Without Knowledge   \n",
       "1800                      Withdrawals Without Knowledge   \n",
       "1801                      Withdrawals Without Knowledge   \n",
       "\n",
       "                                               Attack  \\\n",
       "0                       Hacking Social Media Accounts   \n",
       "1                       Hacking Social Media Accounts   \n",
       "2                       Hacking Social Media Accounts   \n",
       "3                       Hacking Social Media Accounts   \n",
       "4                       Hacking Social Media Accounts   \n",
       "...                                               ...   \n",
       "1797  Obtaining and Using Data in Digital Environment   \n",
       "1798  Obtaining and Using Data in Digital Environment   \n",
       "1799  Obtaining and Using Data in Digital Environment   \n",
       "1800  Obtaining and Using Data in Digital Environment   \n",
       "1801                         Copying Bank / ATM Cards   \n",
       "\n",
       "                               AttackMethod  \n",
       "0             Creating a Fake Shopping Site  \n",
       "1                        Social Engineering  \n",
       "2                        Social Engineering  \n",
       "3                        Social Engineering  \n",
       "4                        Social Engineering  \n",
       "...                                     ...  \n",
       "1797                     Social Engineering  \n",
       "1798                     Social Engineering  \n",
       "1799                     Social Engineering  \n",
       "1800                     Social Engineering  \n",
       "1801  Receiving Public Data on Social Media  \n",
       "\n",
       "[1802 rows x 11 columns]"
      ]
     },
     "execution_count": 4,
     "metadata": {},
     "output_type": "execute_result"
    }
   ],
   "source": [
    "data"
   ]
  },
  {
   "cell_type": "markdown",
   "id": "79478151",
   "metadata": {},
   "source": [
    "Before removing the null data"
   ]
  },
  {
   "cell_type": "code",
   "execution_count": 5,
   "id": "064284a8",
   "metadata": {},
   "outputs": [
    {
     "data": {
      "text/plain": [
       "(1802, 11)"
      ]
     },
     "execution_count": 5,
     "metadata": {},
     "output_type": "execute_result"
    }
   ],
   "source": [
    "data.shape"
   ]
  },
  {
   "cell_type": "markdown",
   "id": "fc8e137f",
   "metadata": {},
   "source": [
    "After removing the null data"
   ]
  },
  {
   "cell_type": "code",
   "execution_count": 6,
   "id": "0cb2adc2",
   "metadata": {},
   "outputs": [],
   "source": [
    "df = data.dropna()"
   ]
  },
  {
   "cell_type": "code",
   "execution_count": 7,
   "id": "49edb519",
   "metadata": {},
   "outputs": [
    {
     "data": {
      "text/plain": [
       "(1802, 11)"
      ]
     },
     "execution_count": 7,
     "metadata": {},
     "output_type": "execute_result"
    }
   ],
   "source": [
    "df.shape"
   ]
  },
  {
   "cell_type": "code",
   "execution_count": 8,
   "id": "b19b3c98",
   "metadata": {},
   "outputs": [
    {
     "data": {
      "text/plain": [
       "S.No             0\n",
       "Crime            0\n",
       "Gender           0\n",
       "Age              0\n",
       "Income           0\n",
       "Job              0\n",
       "Maritalstatus    0\n",
       "Education        0\n",
       "Harm             0\n",
       "Attack           0\n",
       "AttackMethod     0\n",
       "dtype: int64"
      ]
     },
     "execution_count": 8,
     "metadata": {},
     "output_type": "execute_result"
    }
   ],
   "source": [
    "df.isnull().sum()"
   ]
  },
  {
   "cell_type": "code",
   "execution_count": 9,
   "id": "b424916a",
   "metadata": {},
   "outputs": [
    {
     "name": "stdout",
     "output_type": "stream",
     "text": [
      "<class 'pandas.core.frame.DataFrame'>\n",
      "RangeIndex: 1802 entries, 0 to 1801\n",
      "Data columns (total 11 columns):\n",
      " #   Column         Non-Null Count  Dtype \n",
      "---  ------         --------------  ----- \n",
      " 0   S.No           1802 non-null   int64 \n",
      " 1   Crime          1802 non-null   object\n",
      " 2   Gender         1802 non-null   object\n",
      " 3   Age            1802 non-null   object\n",
      " 4   Income         1802 non-null   object\n",
      " 5   Job            1802 non-null   object\n",
      " 6   Maritalstatus  1802 non-null   object\n",
      " 7   Education      1802 non-null   object\n",
      " 8   Harm           1802 non-null   object\n",
      " 9   Attack         1802 non-null   object\n",
      " 10  AttackMethod   1802 non-null   object\n",
      "dtypes: int64(1), object(10)\n",
      "memory usage: 155.0+ KB\n"
     ]
    }
   ],
   "source": [
    "df.info()"
   ]
  },
  {
   "cell_type": "code",
   "execution_count": 10,
   "id": "b83a4546",
   "metadata": {},
   "outputs": [
    {
     "data": {
      "text/plain": [
       "Index(['S.No', 'Crime', 'Gender', 'Age', 'Income', 'Job', 'Maritalstatus',\n",
       "       'Education', 'Harm', 'Attack', 'AttackMethod'],\n",
       "      dtype='object')"
      ]
     },
     "execution_count": 10,
     "metadata": {},
     "output_type": "execute_result"
    }
   ],
   "source": [
    "df.columns"
   ]
  },
  {
   "cell_type": "code",
   "execution_count": 11,
   "id": "813e2c3d",
   "metadata": {},
   "outputs": [
    {
     "data": {
      "text/plain": [
       "0       False\n",
       "1       False\n",
       "2       False\n",
       "3       False\n",
       "4       False\n",
       "        ...  \n",
       "1797    False\n",
       "1798    False\n",
       "1799    False\n",
       "1800    False\n",
       "1801    False\n",
       "Length: 1802, dtype: bool"
      ]
     },
     "execution_count": 11,
     "metadata": {},
     "output_type": "execute_result"
    }
   ],
   "source": [
    "df.duplicated()"
   ]
  },
  {
   "cell_type": "code",
   "execution_count": 12,
   "id": "e12d6343",
   "metadata": {},
   "outputs": [
    {
     "data": {
      "text/plain": [
       "0"
      ]
     },
     "execution_count": 12,
     "metadata": {},
     "output_type": "execute_result"
    }
   ],
   "source": [
    "df.duplicated().sum()"
   ]
  },
  {
   "cell_type": "code",
   "execution_count": 13,
   "id": "8132b329",
   "metadata": {},
   "outputs": [
    {
     "data": {
      "text/plain": [
       "array(['Misuse of Debit Cards or Credit Cards',\n",
       "       'Hacking into the Information System and Capturing Data',\n",
       "       'Through Informatics Theft'], dtype=object)"
      ]
     },
     "execution_count": 13,
     "metadata": {},
     "output_type": "execute_result"
    }
   ],
   "source": [
    "df.Crime.unique()"
   ]
  },
  {
   "cell_type": "code",
   "execution_count": 14,
   "id": "04d0f72f",
   "metadata": {},
   "outputs": [
    {
     "data": {
      "text/plain": [
       "array(['Male', 'Female'], dtype=object)"
      ]
     },
     "execution_count": 14,
     "metadata": {},
     "output_type": "execute_result"
    }
   ],
   "source": [
    "df.Gender.unique()"
   ]
  },
  {
   "cell_type": "code",
   "execution_count": 15,
   "id": "a7539cb7",
   "metadata": {},
   "outputs": [
    {
     "data": {
      "text/plain": [
       "array(['Between 38 and 50', '27 and Under', '51 and Above',\n",
       "       'Between 28 and 37'], dtype=object)"
      ]
     },
     "execution_count": 15,
     "metadata": {},
     "output_type": "execute_result"
    }
   ],
   "source": [
    "df.Age.unique()"
   ]
  },
  {
   "cell_type": "code",
   "execution_count": 16,
   "id": "329e276a",
   "metadata": {},
   "outputs": [
    {
     "data": {
      "text/plain": [
       "array(['Middle', 'Low', 'High'], dtype=object)"
      ]
     },
     "execution_count": 16,
     "metadata": {},
     "output_type": "execute_result"
    }
   ],
   "source": [
    "df.Income.unique()"
   ]
  },
  {
   "cell_type": "code",
   "execution_count": 17,
   "id": "88391547",
   "metadata": {},
   "outputs": [
    {
     "data": {
      "text/plain": [
       "array(['Creating a Fake Shopping Site', 'Social Engineering',\n",
       "       'Hacking Tools or Malware', 'Card Copying / Generating Devices',\n",
       "       'Receiving Public Data on Social Media', 'Phishing Attack'],\n",
       "      dtype=object)"
      ]
     },
     "execution_count": 17,
     "metadata": {},
     "output_type": "execute_result"
    }
   ],
   "source": [
    "df.AttackMethod.unique()"
   ]
  },
  {
   "cell_type": "code",
   "execution_count": 18,
   "id": "12c99cec",
   "metadata": {},
   "outputs": [
    {
     "data": {
      "text/plain": [
       "array(['Hacking Social Media Accounts',\n",
       "       'Obtaining Electronic Bank Accounts',\n",
       "       'Obtaining and Using Data in Digital Environment',\n",
       "       'Copying Bank / ATM Cards', 'Selling Counterfeit Products'],\n",
       "      dtype=object)"
      ]
     },
     "execution_count": 18,
     "metadata": {},
     "output_type": "execute_result"
    }
   ],
   "source": [
    "df.Attack.unique()"
   ]
  },
  {
   "cell_type": "code",
   "execution_count": 19,
   "id": "d16db7f0",
   "metadata": {},
   "outputs": [
    {
     "data": {
      "text/html": [
       "<div>\n",
       "<style scoped>\n",
       "    .dataframe tbody tr th:only-of-type {\n",
       "        vertical-align: middle;\n",
       "    }\n",
       "\n",
       "    .dataframe tbody tr th {\n",
       "        vertical-align: top;\n",
       "    }\n",
       "\n",
       "    .dataframe thead th {\n",
       "        text-align: right;\n",
       "    }\n",
       "</style>\n",
       "<table border=\"1\" class=\"dataframe\">\n",
       "  <thead>\n",
       "    <tr style=\"text-align: right;\">\n",
       "      <th>Attack</th>\n",
       "      <th>Copying Bank / ATM Cards</th>\n",
       "      <th>Hacking Social Media Accounts</th>\n",
       "      <th>Obtaining Electronic Bank Accounts</th>\n",
       "      <th>Obtaining and Using Data in Digital Environment</th>\n",
       "      <th>Selling Counterfeit Products</th>\n",
       "    </tr>\n",
       "    <tr>\n",
       "      <th>Age</th>\n",
       "      <th></th>\n",
       "      <th></th>\n",
       "      <th></th>\n",
       "      <th></th>\n",
       "      <th></th>\n",
       "    </tr>\n",
       "  </thead>\n",
       "  <tbody>\n",
       "    <tr>\n",
       "      <th>27 and Under</th>\n",
       "      <td>110</td>\n",
       "      <td>156</td>\n",
       "      <td>20</td>\n",
       "      <td>108</td>\n",
       "      <td>54</td>\n",
       "    </tr>\n",
       "    <tr>\n",
       "      <th>51 and Above</th>\n",
       "      <td>14</td>\n",
       "      <td>208</td>\n",
       "      <td>22</td>\n",
       "      <td>52</td>\n",
       "      <td>2</td>\n",
       "    </tr>\n",
       "    <tr>\n",
       "      <th>Between 28 and 37</th>\n",
       "      <td>58</td>\n",
       "      <td>262</td>\n",
       "      <td>26</td>\n",
       "      <td>140</td>\n",
       "      <td>22</td>\n",
       "    </tr>\n",
       "    <tr>\n",
       "      <th>Between 38 and 50</th>\n",
       "      <td>42</td>\n",
       "      <td>324</td>\n",
       "      <td>40</td>\n",
       "      <td>128</td>\n",
       "      <td>14</td>\n",
       "    </tr>\n",
       "  </tbody>\n",
       "</table>\n",
       "</div>"
      ],
      "text/plain": [
       "Attack             Copying Bank / ATM Cards  Hacking Social Media Accounts  \\\n",
       "Age                                                                          \n",
       "27 and Under                            110                            156   \n",
       "51 and Above                             14                            208   \n",
       "Between 28 and 37                        58                            262   \n",
       "Between 38 and 50                        42                            324   \n",
       "\n",
       "Attack             Obtaining Electronic Bank Accounts  \\\n",
       "Age                                                     \n",
       "27 and Under                                       20   \n",
       "51 and Above                                       22   \n",
       "Between 28 and 37                                  26   \n",
       "Between 38 and 50                                  40   \n",
       "\n",
       "Attack             Obtaining and Using Data in Digital Environment  \\\n",
       "Age                                                                  \n",
       "27 and Under                                                   108   \n",
       "51 and Above                                                    52   \n",
       "Between 28 and 37                                              140   \n",
       "Between 38 and 50                                              128   \n",
       "\n",
       "Attack             Selling Counterfeit Products  \n",
       "Age                                              \n",
       "27 and Under                                 54  \n",
       "51 and Above                                  2  \n",
       "Between 28 and 37                            22  \n",
       "Between 38 and 50                            14  "
      ]
     },
     "execution_count": 19,
     "metadata": {},
     "output_type": "execute_result"
    }
   ],
   "source": [
    "pd.crosstab(df.Age,df.Attack)"
   ]
  },
  {
   "cell_type": "code",
   "execution_count": 20,
   "id": "35df3dc7",
   "metadata": {},
   "outputs": [
    {
     "data": {
      "text/html": [
       "<div>\n",
       "<style scoped>\n",
       "    .dataframe tbody tr th:only-of-type {\n",
       "        vertical-align: middle;\n",
       "    }\n",
       "\n",
       "    .dataframe tbody tr th {\n",
       "        vertical-align: top;\n",
       "    }\n",
       "\n",
       "    .dataframe thead th {\n",
       "        text-align: right;\n",
       "    }\n",
       "</style>\n",
       "<table border=\"1\" class=\"dataframe\">\n",
       "  <thead>\n",
       "    <tr style=\"text-align: right;\">\n",
       "      <th>Attack</th>\n",
       "      <th>Copying Bank / ATM Cards</th>\n",
       "      <th>Hacking Social Media Accounts</th>\n",
       "      <th>Obtaining Electronic Bank Accounts</th>\n",
       "      <th>Obtaining and Using Data in Digital Environment</th>\n",
       "      <th>Selling Counterfeit Products</th>\n",
       "    </tr>\n",
       "    <tr>\n",
       "      <th>AttackMethod</th>\n",
       "      <th></th>\n",
       "      <th></th>\n",
       "      <th></th>\n",
       "      <th></th>\n",
       "      <th></th>\n",
       "    </tr>\n",
       "  </thead>\n",
       "  <tbody>\n",
       "    <tr>\n",
       "      <th>Card Copying / Generating Devices</th>\n",
       "      <td>0</td>\n",
       "      <td>120</td>\n",
       "      <td>0</td>\n",
       "      <td>14</td>\n",
       "      <td>0</td>\n",
       "    </tr>\n",
       "    <tr>\n",
       "      <th>Creating a Fake Shopping Site</th>\n",
       "      <td>0</td>\n",
       "      <td>222</td>\n",
       "      <td>0</td>\n",
       "      <td>58</td>\n",
       "      <td>0</td>\n",
       "    </tr>\n",
       "    <tr>\n",
       "      <th>Hacking Tools or Malware</th>\n",
       "      <td>0</td>\n",
       "      <td>0</td>\n",
       "      <td>108</td>\n",
       "      <td>0</td>\n",
       "      <td>0</td>\n",
       "    </tr>\n",
       "    <tr>\n",
       "      <th>Phishing Attack</th>\n",
       "      <td>0</td>\n",
       "      <td>0</td>\n",
       "      <td>0</td>\n",
       "      <td>0</td>\n",
       "      <td>92</td>\n",
       "    </tr>\n",
       "    <tr>\n",
       "      <th>Receiving Public Data on Social Media</th>\n",
       "      <td>224</td>\n",
       "      <td>0</td>\n",
       "      <td>0</td>\n",
       "      <td>0</td>\n",
       "      <td>0</td>\n",
       "    </tr>\n",
       "    <tr>\n",
       "      <th>Social Engineering</th>\n",
       "      <td>0</td>\n",
       "      <td>608</td>\n",
       "      <td>0</td>\n",
       "      <td>356</td>\n",
       "      <td>0</td>\n",
       "    </tr>\n",
       "  </tbody>\n",
       "</table>\n",
       "</div>"
      ],
      "text/plain": [
       "Attack                                 Copying Bank / ATM Cards  \\\n",
       "AttackMethod                                                      \n",
       "Card Copying / Generating Devices                             0   \n",
       "Creating a Fake Shopping Site                                 0   \n",
       "Hacking Tools or Malware                                      0   \n",
       "Phishing Attack                                               0   \n",
       "Receiving Public Data on Social Media                       224   \n",
       "Social Engineering                                            0   \n",
       "\n",
       "Attack                                 Hacking Social Media Accounts  \\\n",
       "AttackMethod                                                           \n",
       "Card Copying / Generating Devices                                120   \n",
       "Creating a Fake Shopping Site                                    222   \n",
       "Hacking Tools or Malware                                           0   \n",
       "Phishing Attack                                                    0   \n",
       "Receiving Public Data on Social Media                              0   \n",
       "Social Engineering                                               608   \n",
       "\n",
       "Attack                                 Obtaining Electronic Bank Accounts  \\\n",
       "AttackMethod                                                                \n",
       "Card Copying / Generating Devices                                       0   \n",
       "Creating a Fake Shopping Site                                           0   \n",
       "Hacking Tools or Malware                                              108   \n",
       "Phishing Attack                                                         0   \n",
       "Receiving Public Data on Social Media                                   0   \n",
       "Social Engineering                                                      0   \n",
       "\n",
       "Attack                                 Obtaining and Using Data in Digital Environment  \\\n",
       "AttackMethod                                                                             \n",
       "Card Copying / Generating Devices                                                   14   \n",
       "Creating a Fake Shopping Site                                                       58   \n",
       "Hacking Tools or Malware                                                             0   \n",
       "Phishing Attack                                                                      0   \n",
       "Receiving Public Data on Social Media                                                0   \n",
       "Social Engineering                                                                 356   \n",
       "\n",
       "Attack                                 Selling Counterfeit Products  \n",
       "AttackMethod                                                         \n",
       "Card Copying / Generating Devices                                 0  \n",
       "Creating a Fake Shopping Site                                     0  \n",
       "Hacking Tools or Malware                                          0  \n",
       "Phishing Attack                                                  92  \n",
       "Receiving Public Data on Social Media                             0  \n",
       "Social Engineering                                                0  "
      ]
     },
     "execution_count": 20,
     "metadata": {},
     "output_type": "execute_result"
    }
   ],
   "source": [
    "pd.crosstab(df.AttackMethod,df.Attack)"
   ]
  },
  {
   "cell_type": "code",
   "execution_count": 21,
   "id": "fe213760",
   "metadata": {},
   "outputs": [
    {
     "data": {
      "text/plain": [
       "Social Engineering                       964\n",
       "Creating a Fake Shopping Site            280\n",
       "Receiving Public Data on Social Media    224\n",
       "Card Copying / Generating Devices        134\n",
       "Hacking Tools or Malware                 108\n",
       "Phishing Attack                           92\n",
       "Name: AttackMethod, dtype: int64"
      ]
     },
     "execution_count": 21,
     "metadata": {},
     "output_type": "execute_result"
    }
   ],
   "source": [
    "df.AttackMethod.value_counts()"
   ]
  },
  {
   "cell_type": "code",
   "execution_count": 22,
   "id": "3b94e26a",
   "metadata": {},
   "outputs": [
    {
     "data": {
      "text/plain": [
       "Index(['S.No', 'Crime', 'Gender', 'Age', 'Income', 'Job', 'Maritalstatus',\n",
       "       'Education', 'Harm', 'Attack', 'AttackMethod'],\n",
       "      dtype='object')"
      ]
     },
     "execution_count": 22,
     "metadata": {},
     "output_type": "execute_result"
    }
   ],
   "source": [
    "df.columns"
   ]
  },
  {
   "cell_type": "markdown",
   "id": "6e9fb453",
   "metadata": {},
   "source": [
    "Before LabelEncoder"
   ]
  },
  {
   "cell_type": "code",
   "execution_count": 23,
   "id": "ad6cb24c",
   "metadata": {},
   "outputs": [
    {
     "data": {
      "text/html": [
       "<div>\n",
       "<style scoped>\n",
       "    .dataframe tbody tr th:only-of-type {\n",
       "        vertical-align: middle;\n",
       "    }\n",
       "\n",
       "    .dataframe tbody tr th {\n",
       "        vertical-align: top;\n",
       "    }\n",
       "\n",
       "    .dataframe thead th {\n",
       "        text-align: right;\n",
       "    }\n",
       "</style>\n",
       "<table border=\"1\" class=\"dataframe\">\n",
       "  <thead>\n",
       "    <tr style=\"text-align: right;\">\n",
       "      <th></th>\n",
       "      <th>S.No</th>\n",
       "      <th>Crime</th>\n",
       "      <th>Gender</th>\n",
       "      <th>Age</th>\n",
       "      <th>Income</th>\n",
       "      <th>Job</th>\n",
       "      <th>Maritalstatus</th>\n",
       "      <th>Education</th>\n",
       "      <th>Harm</th>\n",
       "      <th>Attack</th>\n",
       "      <th>AttackMethod</th>\n",
       "    </tr>\n",
       "  </thead>\n",
       "  <tbody>\n",
       "    <tr>\n",
       "      <th>0</th>\n",
       "      <td>0</td>\n",
       "      <td>Misuse of Debit Cards or Credit Cards</td>\n",
       "      <td>Male</td>\n",
       "      <td>Between 38 and 50</td>\n",
       "      <td>Middle</td>\n",
       "      <td>Technical</td>\n",
       "      <td>Married</td>\n",
       "      <td>Primary Education</td>\n",
       "      <td>Fraud</td>\n",
       "      <td>Hacking Social Media Accounts</td>\n",
       "      <td>Creating a Fake Shopping Site</td>\n",
       "    </tr>\n",
       "    <tr>\n",
       "      <th>1</th>\n",
       "      <td>1</td>\n",
       "      <td>Misuse of Debit Cards or Credit Cards</td>\n",
       "      <td>Female</td>\n",
       "      <td>27 and Under</td>\n",
       "      <td>Low</td>\n",
       "      <td>Student</td>\n",
       "      <td>Single</td>\n",
       "      <td>High School</td>\n",
       "      <td>Internet Shopping Out of Knowledge</td>\n",
       "      <td>Hacking Social Media Accounts</td>\n",
       "      <td>Social Engineering</td>\n",
       "    </tr>\n",
       "    <tr>\n",
       "      <th>2</th>\n",
       "      <td>2</td>\n",
       "      <td>Misuse of Debit Cards or Credit Cards</td>\n",
       "      <td>Male</td>\n",
       "      <td>Between 38 and 50</td>\n",
       "      <td>Low</td>\n",
       "      <td>Retired</td>\n",
       "      <td>Married</td>\n",
       "      <td>Primary Education</td>\n",
       "      <td>Internet Shopping Out of Knowledge</td>\n",
       "      <td>Hacking Social Media Accounts</td>\n",
       "      <td>Social Engineering</td>\n",
       "    </tr>\n",
       "    <tr>\n",
       "      <th>3</th>\n",
       "      <td>3</td>\n",
       "      <td>Misuse of Debit Cards or Credit Cards</td>\n",
       "      <td>Male</td>\n",
       "      <td>Between 38 and 50</td>\n",
       "      <td>Low</td>\n",
       "      <td>Technical</td>\n",
       "      <td>Married</td>\n",
       "      <td>High School</td>\n",
       "      <td>Internet Shopping by Intoducing Himself as a B...</td>\n",
       "      <td>Hacking Social Media Accounts</td>\n",
       "      <td>Social Engineering</td>\n",
       "    </tr>\n",
       "    <tr>\n",
       "      <th>4</th>\n",
       "      <td>4</td>\n",
       "      <td>Misuse of Debit Cards or Credit Cards</td>\n",
       "      <td>Male</td>\n",
       "      <td>Between 38 and 50</td>\n",
       "      <td>Low</td>\n",
       "      <td>Others</td>\n",
       "      <td>Married</td>\n",
       "      <td>High School</td>\n",
       "      <td>Internet Shopping Out of Knowledge</td>\n",
       "      <td>Hacking Social Media Accounts</td>\n",
       "      <td>Social Engineering</td>\n",
       "    </tr>\n",
       "  </tbody>\n",
       "</table>\n",
       "</div>"
      ],
      "text/plain": [
       "   S.No                                  Crime  Gender                Age  \\\n",
       "0     0  Misuse of Debit Cards or Credit Cards    Male  Between 38 and 50   \n",
       "1     1  Misuse of Debit Cards or Credit Cards  Female       27 and Under   \n",
       "2     2  Misuse of Debit Cards or Credit Cards    Male  Between 38 and 50   \n",
       "3     3  Misuse of Debit Cards or Credit Cards    Male  Between 38 and 50   \n",
       "4     4  Misuse of Debit Cards or Credit Cards    Male  Between 38 and 50   \n",
       "\n",
       "   Income        Job Maritalstatus          Education  \\\n",
       "0  Middle  Technical       Married  Primary Education   \n",
       "1     Low    Student        Single        High School   \n",
       "2     Low    Retired       Married  Primary Education   \n",
       "3     Low  Technical       Married        High School   \n",
       "4     Low     Others       Married        High School   \n",
       "\n",
       "                                                Harm  \\\n",
       "0                                              Fraud   \n",
       "1                 Internet Shopping Out of Knowledge   \n",
       "2                 Internet Shopping Out of Knowledge   \n",
       "3  Internet Shopping by Intoducing Himself as a B...   \n",
       "4                 Internet Shopping Out of Knowledge   \n",
       "\n",
       "                          Attack                   AttackMethod  \n",
       "0  Hacking Social Media Accounts  Creating a Fake Shopping Site  \n",
       "1  Hacking Social Media Accounts             Social Engineering  \n",
       "2  Hacking Social Media Accounts             Social Engineering  \n",
       "3  Hacking Social Media Accounts             Social Engineering  \n",
       "4  Hacking Social Media Accounts             Social Engineering  "
      ]
     },
     "execution_count": 23,
     "metadata": {},
     "output_type": "execute_result"
    }
   ],
   "source": [
    "df.head()"
   ]
  },
  {
   "cell_type": "markdown",
   "id": "594801f2",
   "metadata": {},
   "source": [
    "After LabelEncoder"
   ]
  },
  {
   "cell_type": "code",
   "execution_count": 24,
   "id": "972001c6",
   "metadata": {},
   "outputs": [],
   "source": [
    "from sklearn.preprocessing import LabelEncoder\n",
    "var_mod = ['Crime', 'Gender', 'Age', 'Income', 'Job', 'Maritalstatus', 'Education', 'Harm', 'Attack', 'AttackMethod']\n",
    "le = LabelEncoder()\n",
    "for i in var_mod:\n",
    "    df[i] = le.fit_transform(df[i]).astype(int)"
   ]
  },
  {
   "cell_type": "code",
   "execution_count": 25,
   "id": "96c2cf54",
   "metadata": {},
   "outputs": [
    {
     "data": {
      "text/html": [
       "<div>\n",
       "<style scoped>\n",
       "    .dataframe tbody tr th:only-of-type {\n",
       "        vertical-align: middle;\n",
       "    }\n",
       "\n",
       "    .dataframe tbody tr th {\n",
       "        vertical-align: top;\n",
       "    }\n",
       "\n",
       "    .dataframe thead th {\n",
       "        text-align: right;\n",
       "    }\n",
       "</style>\n",
       "<table border=\"1\" class=\"dataframe\">\n",
       "  <thead>\n",
       "    <tr style=\"text-align: right;\">\n",
       "      <th></th>\n",
       "      <th>S.No</th>\n",
       "      <th>Crime</th>\n",
       "      <th>Gender</th>\n",
       "      <th>Age</th>\n",
       "      <th>Income</th>\n",
       "      <th>Job</th>\n",
       "      <th>Maritalstatus</th>\n",
       "      <th>Education</th>\n",
       "      <th>Harm</th>\n",
       "      <th>Attack</th>\n",
       "      <th>AttackMethod</th>\n",
       "    </tr>\n",
       "  </thead>\n",
       "  <tbody>\n",
       "    <tr>\n",
       "      <th>0</th>\n",
       "      <td>0</td>\n",
       "      <td>1</td>\n",
       "      <td>1</td>\n",
       "      <td>3</td>\n",
       "      <td>2</td>\n",
       "      <td>9</td>\n",
       "      <td>0</td>\n",
       "      <td>2</td>\n",
       "      <td>1</td>\n",
       "      <td>1</td>\n",
       "      <td>1</td>\n",
       "    </tr>\n",
       "    <tr>\n",
       "      <th>1</th>\n",
       "      <td>1</td>\n",
       "      <td>1</td>\n",
       "      <td>0</td>\n",
       "      <td>0</td>\n",
       "      <td>1</td>\n",
       "      <td>8</td>\n",
       "      <td>1</td>\n",
       "      <td>1</td>\n",
       "      <td>2</td>\n",
       "      <td>1</td>\n",
       "      <td>5</td>\n",
       "    </tr>\n",
       "    <tr>\n",
       "      <th>2</th>\n",
       "      <td>2</td>\n",
       "      <td>1</td>\n",
       "      <td>1</td>\n",
       "      <td>3</td>\n",
       "      <td>1</td>\n",
       "      <td>7</td>\n",
       "      <td>0</td>\n",
       "      <td>2</td>\n",
       "      <td>2</td>\n",
       "      <td>1</td>\n",
       "      <td>5</td>\n",
       "    </tr>\n",
       "    <tr>\n",
       "      <th>3</th>\n",
       "      <td>3</td>\n",
       "      <td>1</td>\n",
       "      <td>1</td>\n",
       "      <td>3</td>\n",
       "      <td>1</td>\n",
       "      <td>9</td>\n",
       "      <td>0</td>\n",
       "      <td>1</td>\n",
       "      <td>3</td>\n",
       "      <td>1</td>\n",
       "      <td>5</td>\n",
       "    </tr>\n",
       "    <tr>\n",
       "      <th>4</th>\n",
       "      <td>4</td>\n",
       "      <td>1</td>\n",
       "      <td>1</td>\n",
       "      <td>3</td>\n",
       "      <td>1</td>\n",
       "      <td>6</td>\n",
       "      <td>0</td>\n",
       "      <td>1</td>\n",
       "      <td>2</td>\n",
       "      <td>1</td>\n",
       "      <td>5</td>\n",
       "    </tr>\n",
       "  </tbody>\n",
       "</table>\n",
       "</div>"
      ],
      "text/plain": [
       "   S.No  Crime  Gender  Age  Income  Job  Maritalstatus  Education  Harm  \\\n",
       "0     0      1       1    3       2    9              0          2     1   \n",
       "1     1      1       0    0       1    8              1          1     2   \n",
       "2     2      1       1    3       1    7              0          2     2   \n",
       "3     3      1       1    3       1    9              0          1     3   \n",
       "4     4      1       1    3       1    6              0          1     2   \n",
       "\n",
       "   Attack  AttackMethod  \n",
       "0       1             1  \n",
       "1       1             5  \n",
       "2       1             5  \n",
       "3       1             5  \n",
       "4       1             5  "
      ]
     },
     "execution_count": 25,
     "metadata": {},
     "output_type": "execute_result"
    }
   ],
   "source": [
    "df.head()"
   ]
  },
  {
   "cell_type": "code",
   "execution_count": 26,
   "id": "bafb8e01",
   "metadata": {},
   "outputs": [
    {
     "data": {
      "text/html": [
       "<div>\n",
       "<style scoped>\n",
       "    .dataframe tbody tr th:only-of-type {\n",
       "        vertical-align: middle;\n",
       "    }\n",
       "\n",
       "    .dataframe tbody tr th {\n",
       "        vertical-align: top;\n",
       "    }\n",
       "\n",
       "    .dataframe thead th {\n",
       "        text-align: right;\n",
       "    }\n",
       "</style>\n",
       "<table border=\"1\" class=\"dataframe\">\n",
       "  <thead>\n",
       "    <tr style=\"text-align: right;\">\n",
       "      <th></th>\n",
       "      <th>S.No</th>\n",
       "      <th>Crime</th>\n",
       "      <th>Gender</th>\n",
       "      <th>Age</th>\n",
       "      <th>Income</th>\n",
       "      <th>Job</th>\n",
       "      <th>Maritalstatus</th>\n",
       "      <th>Education</th>\n",
       "      <th>Harm</th>\n",
       "      <th>Attack</th>\n",
       "      <th>AttackMethod</th>\n",
       "    </tr>\n",
       "  </thead>\n",
       "  <tbody>\n",
       "    <tr>\n",
       "      <th>S.No</th>\n",
       "      <td>1.000000</td>\n",
       "      <td>0.268073</td>\n",
       "      <td>-0.107670</td>\n",
       "      <td>-0.073293</td>\n",
       "      <td>-0.034236</td>\n",
       "      <td>-0.029119</td>\n",
       "      <td>0.088998</td>\n",
       "      <td>-0.050873</td>\n",
       "      <td>0.070474</td>\n",
       "      <td>0.177265</td>\n",
       "      <td>0.056369</td>\n",
       "    </tr>\n",
       "    <tr>\n",
       "      <th>Crime</th>\n",
       "      <td>0.268073</td>\n",
       "      <td>1.000000</td>\n",
       "      <td>-0.237805</td>\n",
       "      <td>-0.008191</td>\n",
       "      <td>-0.063181</td>\n",
       "      <td>-0.102847</td>\n",
       "      <td>0.050194</td>\n",
       "      <td>-0.040659</td>\n",
       "      <td>-0.231643</td>\n",
       "      <td>0.051459</td>\n",
       "      <td>0.330578</td>\n",
       "    </tr>\n",
       "    <tr>\n",
       "      <th>Gender</th>\n",
       "      <td>-0.107670</td>\n",
       "      <td>-0.237805</td>\n",
       "      <td>1.000000</td>\n",
       "      <td>0.142829</td>\n",
       "      <td>0.032175</td>\n",
       "      <td>0.176279</td>\n",
       "      <td>-0.284636</td>\n",
       "      <td>0.057562</td>\n",
       "      <td>0.080345</td>\n",
       "      <td>0.013549</td>\n",
       "      <td>-0.049627</td>\n",
       "    </tr>\n",
       "    <tr>\n",
       "      <th>Age</th>\n",
       "      <td>-0.073293</td>\n",
       "      <td>-0.008191</td>\n",
       "      <td>0.142829</td>\n",
       "      <td>1.000000</td>\n",
       "      <td>0.110287</td>\n",
       "      <td>-0.108884</td>\n",
       "      <td>-0.450486</td>\n",
       "      <td>0.042025</td>\n",
       "      <td>0.052463</td>\n",
       "      <td>-0.014358</td>\n",
       "      <td>0.082491</td>\n",
       "    </tr>\n",
       "    <tr>\n",
       "      <th>Income</th>\n",
       "      <td>-0.034236</td>\n",
       "      <td>-0.063181</td>\n",
       "      <td>0.032175</td>\n",
       "      <td>0.110287</td>\n",
       "      <td>1.000000</td>\n",
       "      <td>-0.092378</td>\n",
       "      <td>-0.108141</td>\n",
       "      <td>-0.162012</td>\n",
       "      <td>0.001779</td>\n",
       "      <td>-0.049182</td>\n",
       "      <td>-0.005811</td>\n",
       "    </tr>\n",
       "    <tr>\n",
       "      <th>Job</th>\n",
       "      <td>-0.029119</td>\n",
       "      <td>-0.102847</td>\n",
       "      <td>0.176279</td>\n",
       "      <td>-0.108884</td>\n",
       "      <td>-0.092378</td>\n",
       "      <td>1.000000</td>\n",
       "      <td>0.086361</td>\n",
       "      <td>0.239153</td>\n",
       "      <td>-0.029589</td>\n",
       "      <td>-0.024657</td>\n",
       "      <td>0.004522</td>\n",
       "    </tr>\n",
       "    <tr>\n",
       "      <th>Maritalstatus</th>\n",
       "      <td>0.088998</td>\n",
       "      <td>0.050194</td>\n",
       "      <td>-0.284636</td>\n",
       "      <td>-0.450486</td>\n",
       "      <td>-0.108141</td>\n",
       "      <td>0.086361</td>\n",
       "      <td>1.000000</td>\n",
       "      <td>0.012036</td>\n",
       "      <td>-0.043787</td>\n",
       "      <td>0.005369</td>\n",
       "      <td>-0.082279</td>\n",
       "    </tr>\n",
       "    <tr>\n",
       "      <th>Education</th>\n",
       "      <td>-0.050873</td>\n",
       "      <td>-0.040659</td>\n",
       "      <td>0.057562</td>\n",
       "      <td>0.042025</td>\n",
       "      <td>-0.162012</td>\n",
       "      <td>0.239153</td>\n",
       "      <td>0.012036</td>\n",
       "      <td>1.000000</td>\n",
       "      <td>-0.008143</td>\n",
       "      <td>-0.034823</td>\n",
       "      <td>0.027717</td>\n",
       "    </tr>\n",
       "    <tr>\n",
       "      <th>Harm</th>\n",
       "      <td>0.070474</td>\n",
       "      <td>-0.231643</td>\n",
       "      <td>0.080345</td>\n",
       "      <td>0.052463</td>\n",
       "      <td>0.001779</td>\n",
       "      <td>-0.029589</td>\n",
       "      <td>-0.043787</td>\n",
       "      <td>-0.008143</td>\n",
       "      <td>1.000000</td>\n",
       "      <td>0.304497</td>\n",
       "      <td>-0.166878</td>\n",
       "    </tr>\n",
       "    <tr>\n",
       "      <th>Attack</th>\n",
       "      <td>0.177265</td>\n",
       "      <td>0.051459</td>\n",
       "      <td>0.013549</td>\n",
       "      <td>-0.014358</td>\n",
       "      <td>-0.049182</td>\n",
       "      <td>-0.024657</td>\n",
       "      <td>0.005369</td>\n",
       "      <td>-0.034823</td>\n",
       "      <td>0.304497</td>\n",
       "      <td>1.000000</td>\n",
       "      <td>0.045194</td>\n",
       "    </tr>\n",
       "    <tr>\n",
       "      <th>AttackMethod</th>\n",
       "      <td>0.056369</td>\n",
       "      <td>0.330578</td>\n",
       "      <td>-0.049627</td>\n",
       "      <td>0.082491</td>\n",
       "      <td>-0.005811</td>\n",
       "      <td>0.004522</td>\n",
       "      <td>-0.082279</td>\n",
       "      <td>0.027717</td>\n",
       "      <td>-0.166878</td>\n",
       "      <td>0.045194</td>\n",
       "      <td>1.000000</td>\n",
       "    </tr>\n",
       "  </tbody>\n",
       "</table>\n",
       "</div>"
      ],
      "text/plain": [
       "                   S.No     Crime    Gender       Age    Income       Job  \\\n",
       "S.No           1.000000  0.268073 -0.107670 -0.073293 -0.034236 -0.029119   \n",
       "Crime          0.268073  1.000000 -0.237805 -0.008191 -0.063181 -0.102847   \n",
       "Gender        -0.107670 -0.237805  1.000000  0.142829  0.032175  0.176279   \n",
       "Age           -0.073293 -0.008191  0.142829  1.000000  0.110287 -0.108884   \n",
       "Income        -0.034236 -0.063181  0.032175  0.110287  1.000000 -0.092378   \n",
       "Job           -0.029119 -0.102847  0.176279 -0.108884 -0.092378  1.000000   \n",
       "Maritalstatus  0.088998  0.050194 -0.284636 -0.450486 -0.108141  0.086361   \n",
       "Education     -0.050873 -0.040659  0.057562  0.042025 -0.162012  0.239153   \n",
       "Harm           0.070474 -0.231643  0.080345  0.052463  0.001779 -0.029589   \n",
       "Attack         0.177265  0.051459  0.013549 -0.014358 -0.049182 -0.024657   \n",
       "AttackMethod   0.056369  0.330578 -0.049627  0.082491 -0.005811  0.004522   \n",
       "\n",
       "               Maritalstatus  Education      Harm    Attack  AttackMethod  \n",
       "S.No                0.088998  -0.050873  0.070474  0.177265      0.056369  \n",
       "Crime               0.050194  -0.040659 -0.231643  0.051459      0.330578  \n",
       "Gender             -0.284636   0.057562  0.080345  0.013549     -0.049627  \n",
       "Age                -0.450486   0.042025  0.052463 -0.014358      0.082491  \n",
       "Income             -0.108141  -0.162012  0.001779 -0.049182     -0.005811  \n",
       "Job                 0.086361   0.239153 -0.029589 -0.024657      0.004522  \n",
       "Maritalstatus       1.000000   0.012036 -0.043787  0.005369     -0.082279  \n",
       "Education           0.012036   1.000000 -0.008143 -0.034823      0.027717  \n",
       "Harm               -0.043787  -0.008143  1.000000  0.304497     -0.166878  \n",
       "Attack              0.005369  -0.034823  0.304497  1.000000      0.045194  \n",
       "AttackMethod       -0.082279   0.027717 -0.166878  0.045194      1.000000  "
      ]
     },
     "execution_count": 26,
     "metadata": {},
     "output_type": "execute_result"
    }
   ],
   "source": [
    "df.corr()"
   ]
  },
  {
   "cell_type": "code",
   "execution_count": null,
   "id": "c37ae8f8",
   "metadata": {},
   "outputs": [],
   "source": []
  }
 ],
 "metadata": {
  "kernelspec": {
   "display_name": "Python 3 (ipykernel)",
   "language": "python",
   "name": "python3"
  },
  "language_info": {
   "codemirror_mode": {
    "name": "ipython",
    "version": 3
   },
   "file_extension": ".py",
   "mimetype": "text/x-python",
   "name": "python",
   "nbconvert_exporter": "python",
   "pygments_lexer": "ipython3",
   "version": "3.9.12"
  }
 },
 "nbformat": 4,
 "nbformat_minor": 5
}
